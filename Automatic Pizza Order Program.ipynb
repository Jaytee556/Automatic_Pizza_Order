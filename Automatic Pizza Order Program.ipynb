{
 "cells": [
  {
   "cell_type": "code",
   "execution_count": 1,
   "id": "88d6e80f",
   "metadata": {},
   "outputs": [
    {
     "name": "stdout",
     "output_type": "stream",
     "text": [
      "Welcome to Python Pizza Deliveries\n"
     ]
    },
    {
     "name": "stdin",
     "output_type": "stream",
     "text": [
      "What size of pizza do you want? S, M or L:  S\n",
      "Would you like to add_pepperoni? Y or N:  Y\n",
      "Would you like to add extra_cheese? Y or N:  Y\n"
     ]
    },
    {
     "name": "stdout",
     "output_type": "stream",
     "text": [
      "Your final bill is: $18.\n"
     ]
    }
   ],
   "source": [
    "\n",
    "print(\"Welcome to Python Pizza Deliveries\")\n",
    "\n",
    "#inserting the size of pizza to be ordered\n",
    "size= input(\"What size of pizza do you want? S, M or L: \")\n",
    "\n",
    "#inserting the choice of add_pepperoni\n",
    "add_pepperoni = input(\"Would you like to add_pepperoni? Y or N: \")\n",
    "\n",
    "#inserting the choice for extra_cheese\n",
    "extra_cheese = input(\"Would you like to add extra_cheese? Y or N: \")\n",
    "\n",
    "\n",
    "bill = 0\n",
    "\n",
    "if size == \"S\":\n",
    "    bill += 15\n",
    "elif size == \"M\":\n",
    "    bill += 20\n",
    "elif size == \"L\":\n",
    "    bill += 25\n",
    "else:\n",
    "    print(\"Write your desired size.\")\n",
    "    \n",
    "#adding pepperoni to order\n",
    "\n",
    "if add_pepperoni == \"Y\":\n",
    "    if size == \"S\":\n",
    "        bill += 2\n",
    "    else:\n",
    "        bill += 3\n",
    "    \n",
    "#adding extra_cheese to order\n",
    "\n",
    "if extra_cheese == \"Y\":\n",
    "    bill+=1\n",
    "    \n",
    "    \n",
    "#print final bill\n",
    "print(f\"Your final bill is: ${bill}.\")\n",
    "\n",
    "    \n",
    "\n"
   ]
  }
 ],
 "metadata": {
  "kernelspec": {
   "display_name": "Python 3 (ipykernel)",
   "language": "python",
   "name": "python3"
  },
  "language_info": {
   "codemirror_mode": {
    "name": "ipython",
    "version": 3
   },
   "file_extension": ".py",
   "mimetype": "text/x-python",
   "name": "python",
   "nbconvert_exporter": "python",
   "pygments_lexer": "ipython3",
   "version": "3.11.5"
  }
 },
 "nbformat": 4,
 "nbformat_minor": 5
}
